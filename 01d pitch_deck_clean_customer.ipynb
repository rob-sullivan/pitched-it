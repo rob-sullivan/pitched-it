{
 "cells": [
  {
   "cell_type": "markdown",
   "metadata": {},
   "source": [
    "# Pitch Deck Dataset Data Cleaning"
   ]
  },
  {
   "cell_type": "markdown",
   "metadata": {},
   "source": [
    "## Import Libraries"
   ]
  },
  {
   "cell_type": "code",
   "execution_count": 10,
   "metadata": {},
   "outputs": [],
   "source": [
    "import pandas as pd\n",
    "import matplotlib.pyplot as plt"
   ]
  },
  {
   "cell_type": "markdown",
   "metadata": {},
   "source": [
    "## Import Dataset"
   ]
  },
  {
   "cell_type": "code",
   "execution_count": 11,
   "metadata": {},
   "outputs": [],
   "source": [
    "df = pd.read_csv('data/falory_clean_business_model.csv')"
   ]
  },
  {
   "cell_type": "code",
   "execution_count": 12,
   "metadata": {},
   "outputs": [
    {
     "data": {
      "text/html": [
       "<div>\n",
       "<style scoped>\n",
       "    .dataframe tbody tr th:only-of-type {\n",
       "        vertical-align: middle;\n",
       "    }\n",
       "\n",
       "    .dataframe tbody tr th {\n",
       "        vertical-align: top;\n",
       "    }\n",
       "\n",
       "    .dataframe thead th {\n",
       "        text-align: right;\n",
       "    }\n",
       "</style>\n",
       "<table border=\"1\" class=\"dataframe\">\n",
       "  <thead>\n",
       "    <tr style=\"text-align: right;\">\n",
       "      <th></th>\n",
       "      <th>Name</th>\n",
       "      <th>Description</th>\n",
       "      <th>Sector</th>\n",
       "      <th>Business</th>\n",
       "      <th>Customer</th>\n",
       "      <th>Round</th>\n",
       "      <th>AmountRaised</th>\n",
       "      <th>Investor</th>\n",
       "      <th>Year</th>\n",
       "      <th>Links</th>\n",
       "      <th>Location</th>\n",
       "    </tr>\n",
       "  </thead>\n",
       "  <tbody>\n",
       "    <tr>\n",
       "      <th>38</th>\n",
       "      <td>Revolut</td>\n",
       "      <td>Revolut is a financial services company that p...</td>\n",
       "      <td>1</td>\n",
       "      <td>3</td>\n",
       "      <td>B2B2C, B2C</td>\n",
       "      <td>Seed</td>\n",
       "      <td>$66M</td>\n",
       "      <td>VC</td>\n",
       "      <td>2015</td>\n",
       "      <td>['https://www.revolut.com', 'https://www.crunc...</td>\n",
       "      <td>['London', 'England', 'United Kingdom']</td>\n",
       "    </tr>\n",
       "  </tbody>\n",
       "</table>\n",
       "</div>"
      ],
      "text/plain": [
       "       Name                                        Description  Sector  \\\n",
       "38  Revolut  Revolut is a financial services company that p...       1   \n",
       "\n",
       "    Business    Customer Round AmountRaised Investor  Year  \\\n",
       "38         3  B2B2C, B2C  Seed         $66M       VC  2015   \n",
       "\n",
       "                                                Links  \\\n",
       "38  ['https://www.revolut.com', 'https://www.crunc...   \n",
       "\n",
       "                                   Location  \n",
       "38  ['London', 'England', 'United Kingdom']  "
      ]
     },
     "execution_count": 12,
     "metadata": {},
     "output_type": "execute_result"
    }
   ],
   "source": [
    "df[df['Name']=='Revolut'].head()"
   ]
  },
  {
   "cell_type": "markdown",
   "metadata": {},
   "source": [
    "## Startups Customers"
   ]
  },
  {
   "cell_type": "code",
   "execution_count": 13,
   "metadata": {},
   "outputs": [
    {
     "name": "stdout",
     "output_type": "stream",
     "text": [
      "['B2C, B2B' 'B2B' 'C2C' 'B2C' 'B2B2C' 'B2B, B2C' 'B2G, B2B' 'B2C, B2B2C'\n",
      " 'B2B2C, B2C' 'B2G, B2B2C' 'B2B, B2G' 'B2B, B2C, B2B2C' 'B2G' 'C2C, B2B2C'\n",
      " 'B2C, B2B, B2B2C' 'B2C, C2C' 'Proptech'\n",
      " 'Venture Capital, Tech, Software, Hardware, Consumer' 'Healthcare' 'VC'\n",
      " 'Tech' 'FinTech']\n"
     ]
    }
   ],
   "source": [
    "unique_cus = df['Customer'].unique()\n",
    "print(unique_cus)"
   ]
  },
  {
   "cell_type": "code",
   "execution_count": 14,
   "metadata": {},
   "outputs": [
    {
     "name": "stdout",
     "output_type": "stream",
     "text": [
      "['B2C, B2B' 'B2B' 'C2C' 'B2C' 'B2B, B2C' 'B2G, B2B' 'B2C, B2B2C'\n",
      " 'B2B2C, B2C' 'B2G, B2B2C' 'B2B, B2G' 'B2B, B2C, B2B2C' 'B2G' 'C2C, B2B2C'\n",
      " 'B2C, B2B, B2B2C' 'B2C, C2C']\n"
     ]
    }
   ],
   "source": [
    "mapping_dict = {\n",
    "    'B2C': 'B2C',\n",
    "    'B2C, B2B' : 'B2C, B2B',\n",
    "    'B2C, C2C': 'B2C, C2C',\n",
    "    'B2C, B2B2C': 'B2C, B2B2C',\n",
    "    'B2C, B2B, B2B2C': 'B2C, B2B, B2B2C',\n",
    "    'C2C, B2B2C': 'C2C, B2B2C',\n",
    "    'B2C, C2C': 'B2C, C2C',\n",
    "    'B2B': 'B2B',\n",
    "    'B2B2C': 'B2B',\n",
    "    'B2B2C, B2C': 'B2B2C, B2C',\n",
    "    'B2B, B2C': 'B2B, B2C',\n",
    "    'B2B, B2G': 'B2B, B2G',\n",
    "    'B2B, B2C, B2B2C': 'B2B, B2C, B2B2C',\n",
    "    'B2B, B2G': 'B2B, B2G',\n",
    "    'C2C': 'C2C',\n",
    "    'B2G': 'B2G',\n",
    "    'B2G, B2B': 'B2G, B2B',\n",
    "    'B2G, B2B2C': 'B2G, B2B2C',\n",
    "    'Proptech': 'B2C',\n",
    "    'Venture Capital, Tech, Software, Hardware, Consumer': 'B2B',\n",
    "    'Healthcare': 'B2B',\n",
    "    'VC': 'B2B',\n",
    "    'Tech': 'B2B',\n",
    "    'FinTech': 'B2B'\n",
    "}\n",
    "\n",
    "# Assuming you have a DataFrame called df and a 'Customer' column that needs to be replaced.\n",
    "df['Customer'] = df['Customer'].map(mapping_dict)\n",
    "\n",
    "unique_cus = df['Customer'].unique()\n",
    "print(unique_cus)"
   ]
  },
  {
   "cell_type": "code",
   "execution_count": 15,
   "metadata": {},
   "outputs": [],
   "source": [
    "customer_dummies  = df['Customer'].str.get_dummies(', ').add_prefix('customer_')\n",
    "df = pd.concat([df, customer_dummies], axis=1)"
   ]
  },
  {
   "cell_type": "code",
   "execution_count": 16,
   "metadata": {},
   "outputs": [
    {
     "data": {
      "text/html": [
       "<div>\n",
       "<style scoped>\n",
       "    .dataframe tbody tr th:only-of-type {\n",
       "        vertical-align: middle;\n",
       "    }\n",
       "\n",
       "    .dataframe tbody tr th {\n",
       "        vertical-align: top;\n",
       "    }\n",
       "\n",
       "    .dataframe thead th {\n",
       "        text-align: right;\n",
       "    }\n",
       "</style>\n",
       "<table border=\"1\" class=\"dataframe\">\n",
       "  <thead>\n",
       "    <tr style=\"text-align: right;\">\n",
       "      <th></th>\n",
       "      <th>Name</th>\n",
       "      <th>Description</th>\n",
       "      <th>Sector</th>\n",
       "      <th>Business</th>\n",
       "      <th>Customer</th>\n",
       "      <th>Round</th>\n",
       "      <th>AmountRaised</th>\n",
       "      <th>Investor</th>\n",
       "      <th>Year</th>\n",
       "      <th>Links</th>\n",
       "      <th>Location</th>\n",
       "      <th>customer_B2B</th>\n",
       "      <th>customer_B2B2C</th>\n",
       "      <th>customer_B2C</th>\n",
       "      <th>customer_B2G</th>\n",
       "      <th>customer_C2C</th>\n",
       "    </tr>\n",
       "  </thead>\n",
       "  <tbody>\n",
       "    <tr>\n",
       "      <th>0</th>\n",
       "      <td>Airbnb</td>\n",
       "      <td>Airbnb is an online marketplace for people to ...</td>\n",
       "      <td>2</td>\n",
       "      <td>1</td>\n",
       "      <td>B2C, B2B</td>\n",
       "      <td>Seed</td>\n",
       "      <td>$600K</td>\n",
       "      <td>VC, Angel Investors</td>\n",
       "      <td>2008</td>\n",
       "      <td>['https://airbnb.com/', 'https://www.crunchbas...</td>\n",
       "      <td>['San Francisco', 'California', 'United States']</td>\n",
       "      <td>1</td>\n",
       "      <td>0</td>\n",
       "      <td>1</td>\n",
       "      <td>0</td>\n",
       "      <td>0</td>\n",
       "    </tr>\n",
       "    <tr>\n",
       "      <th>1</th>\n",
       "      <td>Alan</td>\n",
       "      <td>Alan is a platform that uses technology to mak...</td>\n",
       "      <td>1</td>\n",
       "      <td>3</td>\n",
       "      <td>B2B</td>\n",
       "      <td>Series C</td>\n",
       "      <td>$54M</td>\n",
       "      <td>VC</td>\n",
       "      <td>2020</td>\n",
       "      <td>['https://alan.com/', 'https://www.crunchbase....</td>\n",
       "      <td>['Paris', 'Ile-de-France', 'France']</td>\n",
       "      <td>1</td>\n",
       "      <td>0</td>\n",
       "      <td>0</td>\n",
       "      <td>0</td>\n",
       "      <td>0</td>\n",
       "    </tr>\n",
       "    <tr>\n",
       "      <th>2</th>\n",
       "      <td>Apptopia</td>\n",
       "      <td>Apptopia serves the mobile industry with an ar...</td>\n",
       "      <td>0</td>\n",
       "      <td>1</td>\n",
       "      <td>B2B</td>\n",
       "      <td>Series A</td>\n",
       "      <td>$1.46M</td>\n",
       "      <td>VC</td>\n",
       "      <td>2018</td>\n",
       "      <td>['http://www.apptopia.com/', 'https://www.crun...</td>\n",
       "      <td>['Boston', 'Massachusetts', 'United States']</td>\n",
       "      <td>1</td>\n",
       "      <td>0</td>\n",
       "      <td>0</td>\n",
       "      <td>0</td>\n",
       "      <td>0</td>\n",
       "    </tr>\n",
       "    <tr>\n",
       "      <th>3</th>\n",
       "      <td>Beatdapp</td>\n",
       "      <td>Beatdapp provides real-time tracking of media ...</td>\n",
       "      <td>3</td>\n",
       "      <td>0</td>\n",
       "      <td>B2B</td>\n",
       "      <td>Seed</td>\n",
       "      <td>$2.4M</td>\n",
       "      <td>VC</td>\n",
       "      <td>2019</td>\n",
       "      <td>['https://beatdapp.com/', 'https://www.crunchb...</td>\n",
       "      <td>['Vancouver', 'British Columbia', 'Canada']</td>\n",
       "      <td>1</td>\n",
       "      <td>0</td>\n",
       "      <td>0</td>\n",
       "      <td>0</td>\n",
       "      <td>0</td>\n",
       "    </tr>\n",
       "    <tr>\n",
       "      <th>4</th>\n",
       "      <td>Bind</td>\n",
       "      <td>Bind provides personalized, cost-transparent a...</td>\n",
       "      <td>5</td>\n",
       "      <td>1</td>\n",
       "      <td>B2C, B2B</td>\n",
       "      <td>Series A</td>\n",
       "      <td>$60M</td>\n",
       "      <td>VC</td>\n",
       "      <td>2018</td>\n",
       "      <td>['https://www.yourbind.com/', 'https://www.cru...</td>\n",
       "      <td>['Minneapolis', 'Minnesota', 'United States']</td>\n",
       "      <td>1</td>\n",
       "      <td>0</td>\n",
       "      <td>1</td>\n",
       "      <td>0</td>\n",
       "      <td>0</td>\n",
       "    </tr>\n",
       "  </tbody>\n",
       "</table>\n",
       "</div>"
      ],
      "text/plain": [
       "       Name                                        Description  Sector  \\\n",
       "0    Airbnb  Airbnb is an online marketplace for people to ...       2   \n",
       "1      Alan  Alan is a platform that uses technology to mak...       1   \n",
       "2  Apptopia  Apptopia serves the mobile industry with an ar...       0   \n",
       "3  Beatdapp  Beatdapp provides real-time tracking of media ...       3   \n",
       "4      Bind  Bind provides personalized, cost-transparent a...       5   \n",
       "\n",
       "   Business  Customer     Round AmountRaised             Investor  Year  \\\n",
       "0         1  B2C, B2B      Seed        $600K  VC, Angel Investors  2008   \n",
       "1         3       B2B  Series C         $54M                   VC  2020   \n",
       "2         1       B2B  Series A       $1.46M                   VC  2018   \n",
       "3         0       B2B      Seed        $2.4M                   VC  2019   \n",
       "4         1  B2C, B2B  Series A         $60M                   VC  2018   \n",
       "\n",
       "                                               Links  \\\n",
       "0  ['https://airbnb.com/', 'https://www.crunchbas...   \n",
       "1  ['https://alan.com/', 'https://www.crunchbase....   \n",
       "2  ['http://www.apptopia.com/', 'https://www.crun...   \n",
       "3  ['https://beatdapp.com/', 'https://www.crunchb...   \n",
       "4  ['https://www.yourbind.com/', 'https://www.cru...   \n",
       "\n",
       "                                           Location  customer_B2B  \\\n",
       "0  ['San Francisco', 'California', 'United States']             1   \n",
       "1              ['Paris', 'Ile-de-France', 'France']             1   \n",
       "2      ['Boston', 'Massachusetts', 'United States']             1   \n",
       "3       ['Vancouver', 'British Columbia', 'Canada']             1   \n",
       "4     ['Minneapolis', 'Minnesota', 'United States']             1   \n",
       "\n",
       "   customer_B2B2C  customer_B2C  customer_B2G  customer_C2C  \n",
       "0               0             1             0             0  \n",
       "1               0             0             0             0  \n",
       "2               0             0             0             0  \n",
       "3               0             0             0             0  \n",
       "4               0             1             0             0  "
      ]
     },
     "execution_count": 16,
     "metadata": {},
     "output_type": "execute_result"
    }
   ],
   "source": [
    "df.head()"
   ]
  },
  {
   "cell_type": "code",
   "execution_count": 17,
   "metadata": {},
   "outputs": [
    {
     "data": {
      "image/png": "[encoded data removed]",
      "text/plain": [
       "<Figure size 1000x600 with 1 Axes>"
      ]
     },
     "metadata": {},
     "output_type": "display_data"
    }
   ],
   "source": [
    "customer_type_sums = df[['customer_B2B', 'customer_B2B2C', 'customer_B2C', 'customer_B2G', 'customer_C2C']].sum()\n",
    "\n",
    "# Plotting the bar chart\n",
    "plt.figure(figsize=(10, 6))  # Adjust the figure size as needed\n",
    "plt.bar(customer_type_sums.index, customer_type_sums.values, color='skyblue')\n",
    "plt.title('Customers')\n",
    "plt.xlabel('Customers')\n",
    "plt.ylabel('Count')\n",
    "plt.xticks(rotation=45)  # Rotate the x-axis labels for better readability\n",
    "plt.show()"
   ]
  },
  {
   "cell_type": "code",
   "execution_count": 18,
   "metadata": {},
   "outputs": [],
   "source": [
    "df.drop('Customer', axis=1, inplace=True)"
   ]
  },
  {
   "cell_type": "markdown",
   "metadata": {},
   "source": [
    "### save cleaned dataset"
   ]
  },
  {
   "cell_type": "code",
   "execution_count": 19,
   "metadata": {},
   "outputs": [],
   "source": [
    "# Save the updated DataFrame to a new CSV file or overwrite the original one\n",
    "df.to_csv('data/falory_clean_customer.csv', index=False)"
   ]
  }
 ],
 "metadata": {
  "kernelspec": {
   "display_name": "venv_pitchedit",
   "language": "python",
   "name": "python3"
  },
  "language_info": {
   "codemirror_mode": {
    "name": "ipython",
    "version": 3
   },
   "file_extension": ".py",
   "mimetype": "text/x-python",
   "name": "python",
   "nbconvert_exporter": "python",
   "pygments_lexer": "ipython3",
   "version": "3.8.0"
  },
  "orig_nbformat": 4
 },
 "nbformat": 4,
 "nbformat_minor": 2
}
