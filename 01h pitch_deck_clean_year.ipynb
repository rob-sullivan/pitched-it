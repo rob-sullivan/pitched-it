{
 "cells": [
  {
   "cell_type": "markdown",
   "metadata": {},
   "source": [
    "# Pitch Deck Dataset Data Cleaning"
   ]
  },
  {
   "cell_type": "markdown",
   "metadata": {},
   "source": [
    "## Import Libraries"
   ]
  },
  {
   "cell_type": "code",
   "execution_count": 1,
   "metadata": {},
   "outputs": [],
   "source": [
    "import pandas as pd\n",
    "import matplotlib.pyplot as plt"
   ]
  },
  {
   "cell_type": "markdown",
   "metadata": {},
   "source": [
    "## Import Dataset"
   ]
  },
  {
   "cell_type": "code",
   "execution_count": 3,
   "metadata": {},
   "outputs": [],
   "source": [
    "df = pd.read_csv('data/falory_clean_investor.csv')"
   ]
  },
  {
   "cell_type": "code",
   "execution_count": 4,
   "metadata": {},
   "outputs": [
    {
     "data": {
      "text/html": [
       "<div>\n",
       "<style scoped>\n",
       "    .dataframe tbody tr th:only-of-type {\n",
       "        vertical-align: middle;\n",
       "    }\n",
       "\n",
       "    .dataframe tbody tr th {\n",
       "        vertical-align: top;\n",
       "    }\n",
       "\n",
       "    .dataframe thead th {\n",
       "        text-align: right;\n",
       "    }\n",
       "</style>\n",
       "<table border=\"1\" class=\"dataframe\">\n",
       "  <thead>\n",
       "    <tr style=\"text-align: right;\">\n",
       "      <th></th>\n",
       "      <th>Name</th>\n",
       "      <th>Description</th>\n",
       "      <th>Sector</th>\n",
       "      <th>Business</th>\n",
       "      <th>customer_B2B</th>\n",
       "      <th>customer_B2B2C</th>\n",
       "      <th>customer_B2C</th>\n",
       "      <th>customer_B2G</th>\n",
       "      <th>customer_C2C</th>\n",
       "      <th>Round</th>\n",
       "      <th>investor_Accelerator</th>\n",
       "      <th>investor_Angels</th>\n",
       "      <th>investor_Corporate</th>\n",
       "      <th>investor_Crowdfunding</th>\n",
       "      <th>investor_SPAC</th>\n",
       "      <th>investor_VC</th>\n",
       "      <th>AmountRaisedEuro</th>\n",
       "      <th>Year</th>\n",
       "      <th>Links</th>\n",
       "      <th>Location</th>\n",
       "    </tr>\n",
       "  </thead>\n",
       "  <tbody>\n",
       "    <tr>\n",
       "      <th>0</th>\n",
       "      <td>Airbnb</td>\n",
       "      <td>Airbnb is an online marketplace for people to ...</td>\n",
       "      <td>2</td>\n",
       "      <td>1</td>\n",
       "      <td>1</td>\n",
       "      <td>0</td>\n",
       "      <td>1</td>\n",
       "      <td>0</td>\n",
       "      <td>0</td>\n",
       "      <td>1</td>\n",
       "      <td>0</td>\n",
       "      <td>1</td>\n",
       "      <td>0</td>\n",
       "      <td>0</td>\n",
       "      <td>0</td>\n",
       "      <td>1</td>\n",
       "      <td>636000.0</td>\n",
       "      <td>2008</td>\n",
       "      <td>['https://airbnb.com/', 'https://www.crunchbas...</td>\n",
       "      <td>['San Francisco', 'California', 'United States']</td>\n",
       "    </tr>\n",
       "    <tr>\n",
       "      <th>1</th>\n",
       "      <td>Alan</td>\n",
       "      <td>Alan is a platform that uses technology to mak...</td>\n",
       "      <td>1</td>\n",
       "      <td>3</td>\n",
       "      <td>1</td>\n",
       "      <td>0</td>\n",
       "      <td>0</td>\n",
       "      <td>0</td>\n",
       "      <td>0</td>\n",
       "      <td>4</td>\n",
       "      <td>0</td>\n",
       "      <td>0</td>\n",
       "      <td>0</td>\n",
       "      <td>0</td>\n",
       "      <td>0</td>\n",
       "      <td>1</td>\n",
       "      <td>57240000.0</td>\n",
       "      <td>2020</td>\n",
       "      <td>['https://alan.com/', 'https://www.crunchbase....</td>\n",
       "      <td>['Paris', 'Ile-de-France', 'France']</td>\n",
       "    </tr>\n",
       "    <tr>\n",
       "      <th>2</th>\n",
       "      <td>Apptopia</td>\n",
       "      <td>Apptopia serves the mobile industry with an ar...</td>\n",
       "      <td>0</td>\n",
       "      <td>1</td>\n",
       "      <td>1</td>\n",
       "      <td>0</td>\n",
       "      <td>0</td>\n",
       "      <td>0</td>\n",
       "      <td>0</td>\n",
       "      <td>2</td>\n",
       "      <td>0</td>\n",
       "      <td>0</td>\n",
       "      <td>0</td>\n",
       "      <td>0</td>\n",
       "      <td>0</td>\n",
       "      <td>1</td>\n",
       "      <td>1547600.0</td>\n",
       "      <td>2018</td>\n",
       "      <td>['http://www.apptopia.com/', 'https://www.crun...</td>\n",
       "      <td>['Boston', 'Massachusetts', 'United States']</td>\n",
       "    </tr>\n",
       "    <tr>\n",
       "      <th>3</th>\n",
       "      <td>Beatdapp</td>\n",
       "      <td>Beatdapp provides real-time tracking of media ...</td>\n",
       "      <td>3</td>\n",
       "      <td>0</td>\n",
       "      <td>1</td>\n",
       "      <td>0</td>\n",
       "      <td>0</td>\n",
       "      <td>0</td>\n",
       "      <td>0</td>\n",
       "      <td>1</td>\n",
       "      <td>0</td>\n",
       "      <td>0</td>\n",
       "      <td>0</td>\n",
       "      <td>0</td>\n",
       "      <td>0</td>\n",
       "      <td>1</td>\n",
       "      <td>2544000.0</td>\n",
       "      <td>2019</td>\n",
       "      <td>['https://beatdapp.com/', 'https://www.crunchb...</td>\n",
       "      <td>['Vancouver', 'British Columbia', 'Canada']</td>\n",
       "    </tr>\n",
       "    <tr>\n",
       "      <th>4</th>\n",
       "      <td>Bind</td>\n",
       "      <td>Bind provides personalized, cost-transparent a...</td>\n",
       "      <td>5</td>\n",
       "      <td>1</td>\n",
       "      <td>1</td>\n",
       "      <td>0</td>\n",
       "      <td>1</td>\n",
       "      <td>0</td>\n",
       "      <td>0</td>\n",
       "      <td>2</td>\n",
       "      <td>0</td>\n",
       "      <td>0</td>\n",
       "      <td>0</td>\n",
       "      <td>0</td>\n",
       "      <td>0</td>\n",
       "      <td>1</td>\n",
       "      <td>63600000.0</td>\n",
       "      <td>2018</td>\n",
       "      <td>['https://www.yourbind.com/', 'https://www.cru...</td>\n",
       "      <td>['Minneapolis', 'Minnesota', 'United States']</td>\n",
       "    </tr>\n",
       "  </tbody>\n",
       "</table>\n",
       "</div>"
      ],
      "text/plain": [
       "       Name                                        Description  Sector  \\\n",
       "0    Airbnb  Airbnb is an online marketplace for people to ...       2   \n",
       "1      Alan  Alan is a platform that uses technology to mak...       1   \n",
       "2  Apptopia  Apptopia serves the mobile industry with an ar...       0   \n",
       "3  Beatdapp  Beatdapp provides real-time tracking of media ...       3   \n",
       "4      Bind  Bind provides personalized, cost-transparent a...       5   \n",
       "\n",
       "   Business  customer_B2B  customer_B2B2C  customer_B2C  customer_B2G  \\\n",
       "0         1             1               0             1             0   \n",
       "1         3             1               0             0             0   \n",
       "2         1             1               0             0             0   \n",
       "3         0             1               0             0             0   \n",
       "4         1             1               0             1             0   \n",
       "\n",
       "   customer_C2C  Round  investor_Accelerator  investor_Angels  \\\n",
       "0             0      1                     0                1   \n",
       "1             0      4                     0                0   \n",
       "2             0      2                     0                0   \n",
       "3             0      1                     0                0   \n",
       "4             0      2                     0                0   \n",
       "\n",
       "   investor_Corporate  investor_Crowdfunding  investor_SPAC  investor_VC  \\\n",
       "0                   0                      0              0            1   \n",
       "1                   0                      0              0            1   \n",
       "2                   0                      0              0            1   \n",
       "3                   0                      0              0            1   \n",
       "4                   0                      0              0            1   \n",
       "\n",
       "   AmountRaisedEuro  Year                                              Links  \\\n",
       "0          636000.0  2008  ['https://airbnb.com/', 'https://www.crunchbas...   \n",
       "1        57240000.0  2020  ['https://alan.com/', 'https://www.crunchbase....   \n",
       "2         1547600.0  2018  ['http://www.apptopia.com/', 'https://www.crun...   \n",
       "3         2544000.0  2019  ['https://beatdapp.com/', 'https://www.crunchb...   \n",
       "4        63600000.0  2018  ['https://www.yourbind.com/', 'https://www.cru...   \n",
       "\n",
       "                                           Location  \n",
       "0  ['San Francisco', 'California', 'United States']  \n",
       "1              ['Paris', 'Ile-de-France', 'France']  \n",
       "2      ['Boston', 'Massachusetts', 'United States']  \n",
       "3       ['Vancouver', 'British Columbia', 'Canada']  \n",
       "4     ['Minneapolis', 'Minnesota', 'United States']  "
      ]
     },
     "execution_count": 4,
     "metadata": {},
     "output_type": "execute_result"
    }
   ],
   "source": [
    "df.head()"
   ]
  },
  {
   "cell_type": "code",
   "execution_count": 5,
   "metadata": {},
   "outputs": [
    {
     "name": "stdout",
     "output_type": "stream",
     "text": [
      "[2008 2020 2018 2019 2016 2015 2012 2007 2004 2009 2017 2013 2014 2003\n",
      " 2011 2006 2005 2022 2021 2023]\n"
     ]
    }
   ],
   "source": [
    "unique_inv = df['Year'].unique()\n",
    "print(unique_inv)"
   ]
  },
  {
   "cell_type": "markdown",
   "metadata": {},
   "source": [
    "# Missing"
   ]
  },
  {
   "cell_type": "code",
   "execution_count": 12,
   "metadata": {},
   "outputs": [
    {
     "name": "stdout",
     "output_type": "stream",
     "text": [
      "Missing values in each column:\n",
      "Name                     0\n",
      "Description              0\n",
      "Sector                   0\n",
      "Business                 0\n",
      "customer_B2B             0\n",
      "customer_B2B2C           0\n",
      "customer_B2C             0\n",
      "customer_B2G             0\n",
      "customer_C2C             0\n",
      "Round                    0\n",
      "investor_Accelerator     0\n",
      "investor_Angels          0\n",
      "investor_Corporate       0\n",
      "investor_Crowdfunding    0\n",
      "investor_SPAC            0\n",
      "investor_VC              0\n",
      "AmountRaisedEuro         0\n",
      "Year                     0\n",
      "Links                    0\n",
      "Location                 0\n",
      "dtype: int64\n",
      "The DataFrame has no missing values.\n"
     ]
    }
   ],
   "source": [
    "# Check for missing values using .isnull()\n",
    "missing_values = df.isnull()\n",
    "\n",
    "# Count the missing values in each column\n",
    "missing_counts = missing_values.sum()\n",
    "\n",
    "# Check if there are any missing values in the entire DataFrame\n",
    "has_missing_values = missing_values.any().any()\n",
    "\n",
    "# Print the results\n",
    "print(\"Missing values in each column:\")\n",
    "print(missing_counts)\n",
    "\n",
    "if has_missing_values:\n",
    "    print(\"The DataFrame has missing values.\")\n",
    "else:\n",
    "    print(\"The DataFrame has no missing values.\")"
   ]
  },
  {
   "cell_type": "markdown",
   "metadata": {},
   "source": [
    "### save cleaned dataset"
   ]
  },
  {
   "cell_type": "code",
   "execution_count": 13,
   "metadata": {},
   "outputs": [],
   "source": [
    "# Save the updated DataFrame to a new CSV file or overwrite the original one\n",
    "df.to_csv('data/falory_clean_year.csv', index=False)"
   ]
  }
 ],
 "metadata": {
  "kernelspec": {
   "display_name": "venv_pitchedit",
   "language": "python",
   "name": "python3"
  },
  "language_info": {
   "codemirror_mode": {
    "name": "ipython",
    "version": 3
   },
   "file_extension": ".py",
   "mimetype": "text/x-python",
   "name": "python",
   "nbconvert_exporter": "python",
   "pygments_lexer": "ipython3",
   "version": "3.8.0"
  },
  "orig_nbformat": 4
 },
 "nbformat": 4,
 "nbformat_minor": 2
}
